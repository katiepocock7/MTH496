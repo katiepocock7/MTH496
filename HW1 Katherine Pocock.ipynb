{
 "cells": [
  {
   "cell_type": "markdown",
   "id": "ee762fec",
   "metadata": {},
   "source": [
    "### <p style=\"text-align: right;\"> &#9989; Katie Pocock</p>\n"
   ]
  },
  {
   "cell_type": "markdown",
   "id": "9179367e",
   "metadata": {},
   "source": [
    "# MTH 496 HW1 \n",
    "\n",
    "Due date: Friday, Sept 30, 2022\n",
    "\n"
   ]
  },
  {
   "cell_type": "markdown",
   "id": "a54ffa8d",
   "metadata": {},
   "source": [
    "2 Programming Homework\n",
    "Note Submit your homework on D2L → Assessments → Assignment. Please only submit a\n",
    "jupyter notebook, and name it as HW1 FirstName LastName. For example: HW1 Xiaoqi Wei.ipynb\n",
    "\n",
    "**&#9989; **Problem 1 (65pts).****. Given the Iris dataset. It has been split into training data: Iris X train.csv\n",
    "(features), Iris y train.csv and test data Iris X test.csv (features), Iris y test.csv.\n",
    "File Iris description.txt describes the meaning of each column in the data set.\n",
    "- a) Program a regularized logistic regression model to predict the test data. (sklearn.linear model\n",
    "is not allowed to use.)\n",
    "- b) Comment on the choice of regularized parameters"
   ]
  },
  {
   "cell_type": "code",
   "execution_count": 116,
   "id": "6773d05b",
   "metadata": {},
   "outputs": [],
   "source": [
    "import pandas as pd\n",
    "import matplotlib.pyplot as plt\n",
    "import numpy as np"
   ]
  },
  {
   "cell_type": "code",
   "execution_count": 117,
   "id": "c94fec59",
   "metadata": {},
   "outputs": [],
   "source": [
    "Iris_X_test = pd.read_csv('Iris_X_test.csv')\n",
    "Iris_X_train = pd.read_csv('Iris_X_train.csv')\n",
    "\n",
    "Iris_y_test = pd.read_csv('Iris_y_test.csv')\n",
    "Iris_y_train = pd.read_csv('Iris_y_train.csv')\n",
    "\n",
    "X_test = Iris_X_test.values\n",
    "X_train = Iris_X_train.values\n",
    "y_test = Iris_y_test.values\n",
    "y_train = Iris_y_train.values\n",
    "\n",
    "X_train = X_train.T\n",
    "y_train = y_train.reshape(1, X_train.shape[1])\n",
    "\n",
    "X_test = X_test.T\n",
    "y_test = y_test.reshape(1, X_test.shape[1])\n"
   ]
  },
  {
   "cell_type": "code",
   "execution_count": 121,
   "id": "21e62c84",
   "metadata": {},
   "outputs": [
    {
     "name": "stdout",
     "output_type": "stream",
     "text": [
      "cost: 0.7631471805599452 for 0 iterations.\n",
      "cost: 0.7281013101981045 for 1000 iterations.\n",
      "cost: 0.7130488573280009 for 2000 iterations.\n",
      "cost: 0.7056552299250763 for 3000 iterations.\n",
      "cost: 0.7014342226693104 for 4000 iterations.\n",
      "cost: 0.6986446856112776 for 5000 iterations.\n",
      "cost: 0.6965551823387013 for 6000 iterations.\n",
      "cost: 0.6948326278714893 for 7000 iterations.\n",
      "cost: 0.6933137511868639 for 8000 iterations.\n",
      "cost: 0.6919135270628188 for 9000 iterations.\n",
      "Regression Accuracy: 71.05263157894737 %\n"
     ]
    },
    {
     "data": {
      "image/png": "[encoded data removed]",
      "text/plain": [
       "<Figure size 432x288 with 1 Axes>"
      ]
     },
     "metadata": {
      "needs_background": "light"
     },
     "output_type": "display_data"
    }
   ],
   "source": [
    "def sigmoid(z):\n",
    "    return (1.0/(1 + np.exp(-z)))\n",
    "\n",
    "\n",
    "def logistic_regression(X, y, lr, epochs, reg_parameter):\n",
    "    m = X_train.shape[1]\n",
    "    n = X_train.shape[0]\n",
    "        #weight and bias\n",
    "    w = np.zeros((n,1))\n",
    "    b = 0\n",
    "    \n",
    "    cost_list = []\n",
    "    \n",
    "    for i in range(epochs):\n",
    "        Z = np.dot(w.T, X) + b\n",
    "        A = sigmoid(Z)\n",
    "        \n",
    "        cost = -(1/m)*np.sum(y*np.log(A) + (1-y)*np.log(1-A))+(reg_parameter/(2*n))*np.sum(A**2)\n",
    "        \n",
    "        dw = (1/m)*np.dot(A-y, X.T)\n",
    "        db = (1/m)*np.sum(A-y)\n",
    "        \n",
    "        w = w - lr*dw.T\n",
    "        b = b - lr*db\n",
    "        \n",
    "        cost_list.append(cost)\n",
    "        \n",
    "        if(i%(epochs/10) == 0):\n",
    "            print('cost:',cost, 'for' , i , 'iterations.')\n",
    "            \n",
    "    return w,b, cost_list\n",
    "    \n",
    "epochs = 10000\n",
    "lr = 0.00005\n",
    "reg_parameter = 0.01 #chose this regularization parameter based on reducing overfitting(as when 0.001 is used and the graph is less representattive of the best fit)\n",
    "w, b, cost_list = logistic_regression(X_train, y_train, lr = lr, epochs = epochs,  reg_parameter = reg_parameter)\n",
    "\n",
    "plt.plot(np.arange(epochs), cost_list)\n",
    "    \n",
    "    \n",
    "    \n",
    "def accuracy(X, y, w, b):\n",
    "    Z = np.dot(w.T, X) + b\n",
    "    A = sigmoid(Z)\n",
    "    \n",
    "    A = A > 0.5\n",
    "    A = np.array(A, dtype = 'int64')\n",
    "    acc = (1-np.sum(np.abs(A-y))/y.shape[1])*100\n",
    "    print(\"Regression Accuracy:\", acc, '%')\n",
    "    \n",
    "accuracy(X_test, y_test, w, b)\n",
    "    \n",
    "    \n",
    "    "
   ]
  },
  {
   "cell_type": "code",
   "execution_count": null,
   "id": "f042583c",
   "metadata": {},
   "outputs": [],
   "source": []
  }
 ],
 "metadata": {
  "kernelspec": {
   "display_name": "Python 3",
   "language": "python",
   "name": "python3"
  },
  "language_info": {
   "codemirror_mode": {
    "name": "ipython",
    "version": 3
   },
   "file_extension": ".py",
   "mimetype": "text/x-python",
   "name": "python",
   "nbconvert_exporter": "python",
   "pygments_lexer": "ipython3",
   "version": "3.8.8"
  }
 },
 "nbformat": 4,
 "nbformat_minor": 5
}
