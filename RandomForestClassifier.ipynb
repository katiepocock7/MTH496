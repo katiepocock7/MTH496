{
  "cells": [
    {
      "cell_type": "code",
      "execution_count": 15,
      "metadata": {},
      "outputs": [],
      "source": [
        "from DecisionTreeClassifier import * \n",
        "import scipy\n",
        "\n",
        "class random_forest_regressor:\n",
        "    def __init__(self, n_estimators=10):\n",
        "        self.n_estimators = n_estimators\n",
        "        self.forest = []\n",
        "        for i in range(self.n_estimators):\n",
        "            self.forest.append(DecisionTreeClassifier(max_depth=10, max_features='sqrt'))\n",
        "\n",
        "    def fit(self, X, y):\n",
        "        '''bagging'''\n",
        "        self.X = X\n",
        "        self.y = y\n",
        "        self.N = X.shape[1]\n",
        "        self.M = X.shape[0]\n",
        "\n",
        "        self.trees_idx = np.random.randint(0, self.M, size=(self.n_estimators, self.M))\n",
        "        for i, itree in enumerate(self.forest):\n",
        "            itree.fit(self.X[self.trees_idx[i]], self.y[self.trees_idx[i]])\n",
        "            print(\"The {}th tree is built\".format(i))\n",
        "\n",
        "    def predict(self, Xtest):\n",
        "        n_test = Xtest.shape[0]\n",
        "        ypred = np.zeros((self.n_estimators, n_test))\n",
        "        for i, itree in enumerate(self.forest):\n",
        "            ypred[i, :] = itree.predict(Xtest)\n",
        "        return scipy.stats.mode(ypred, axis=0)[0].flatten()\n"
      ]
    },
    {
      "cell_type": "code",
      "execution_count": 16,
      "metadata": {},
      "outputs": [
        {
          "name": "stdout",
          "output_type": "stream",
          "text": [
            "The 0th tree is built\n",
            "The 1th tree is built\n",
            "The 2th tree is built\n",
            "The 3th tree is built\n",
            "The 4th tree is built\n",
            "The 5th tree is built\n",
            "The 6th tree is built\n",
            "The 7th tree is built\n",
            "The 8th tree is built\n",
            "The 9th tree is built\n",
            "(450,) (450,)\n",
            "Accuracy of our model  0.9422222222222222\n"
          ]
        }
      ],
      "source": [
        "Xtrain = pd.read_csv('Digits_X_train.csv').values\n",
        "ytrain = pd.read_csv('Digits_y_train.csv').values\n",
        "Xtest  = pd.read_csv('Digits_X_test.csv').values\n",
        "ytest  = pd.read_csv('Digits_y_test.csv').values\n",
        "ytrain, ytest = ytrain.flatten(), ytest.flatten()\n",
        "\n",
        "RF = random_forest_regressor(n_estimators=10)\n",
        "RF.fit(Xtrain, ytrain)\n",
        "ypred = RF.predict(Xtest)\n",
        "print('Accuracy of our model ', accuracy(ypred, ytest))"
      ]
    }
  ],
  "metadata": {
    "interpreter": {
      "hash": "7b83bad6c4b5a78a13893782ab5f14b2b670f5dde44611c21ac35ec8ddfbed47"
    },
    "kernelspec": {
      "display_name": "Python 3.8.12 ('py38')",
      "language": "python",
      "name": "python3"
    },
    "language_info": {
      "codemirror_mode": {
        "name": "ipython",
        "version": 3
      },
      "file_extension": ".py",
      "mimetype": "text/x-python",
      "name": "python",
      "nbconvert_exporter": "python",
      "pygments_lexer": "ipython3",
      "version": "3.8.12"
    }
  },
  "nbformat": 4,
  "nbformat_minor": 2
}
